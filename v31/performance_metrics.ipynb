{
  "nbformat": 4,
  "nbformat_minor": 0,
  "metadata": {
    "colab": {
      "name": "performance_metrics.ipynb",
      "provenance": []
    },
    "kernelspec": {
      "name": "python3",
      "display_name": "Python 3"
    },
    "language_info": {
      "name": "python"
    }
  },
  "cells": [
    {
      "cell_type": "code",
      "execution_count": 39,
      "metadata": {
        "colab": {
          "base_uri": "https://localhost:8080/",
          "height": 632
        },
        "id": "pzwMid0Plj5-",
        "outputId": "f4b9fe42-d4d6-4ef6-8936-c5c8669116a3"
      },
      "outputs": [
        {
          "output_type": "stream",
          "name": "stdout",
          "text": [
            "              precision    recall  f1-score   support\n",
            "\n",
            "   Fast Walk      0.957     1.000     0.978        22\n",
            "   Slow Walk      1.000     0.917     0.957        12\n",
            "\n",
            "    accuracy                          0.971        34\n",
            "   macro avg      0.978     0.958     0.967        34\n",
            "weighted avg      0.972     0.971     0.970        34\n",
            "\n",
            "Slow Walk (Positive) Class Values\n",
            "precision: 1.0\n",
            "recall: 0.9166666666666666\n",
            "f1score: 0.9565217391304348\n",
            "accuracy: 0.9705882352941176\n",
            "specificity: 1.0\n",
            "[[22  0]\n",
            " [ 1 11]]\n"
          ]
        },
        {
          "output_type": "display_data",
          "data": {
            "image/png": "[encoded data removed]",
            "text/plain": [
              "<Figure size 432x288 with 2 Axes>"
            ]
          },
          "metadata": {
            "needs_background": "light"
          }
        }
      ],
      "source": [
        "from sklearn.metrics import classification_report\n",
        "# 0 fast 1 slow\n",
        "y_true = [0, 0, 0, 0, 0,0, 0, 0, 0, 0,0, 0, 0, 0, 0,0, 0, 0, 0, 0,0,0,1,1,1,1,1,1,1,1,1,1,1,1]\n",
        "y_pred = [0, 0, 0, 0, 0,0, 0, 0, 0, 0,0, 0, 0, 0, 0,0, 0, 0, 0, 0,0,0,1,1,1,1,1,1,1,1,1,1,1,0]\n",
        "\n",
        "\n",
        "target_names = ['Fast Walk', 'Slow Walk']\n",
        "print(classification_report(y_true, y_pred, target_names=target_names, digits=3))\n",
        "from sklearn.metrics import confusion_matrix\n",
        "\n",
        "#Generate the confusion matrix\n",
        "cf_matrix = confusion_matrix(y_true, y_pred)\n",
        "tn, fp, fn, tp = confusion_matrix(y_true, y_pred).ravel()\n",
        "\n",
        "print('Slow Walk (Positive) Class Values')\n",
        "precision = tp/(fp+tp)\n",
        "recall =tp/(tp+fn)\n",
        "accuracy = (tp+tn)/(tn+tp+fp+fn)\n",
        "f1score= 2*precision*recall/(precision+recall)\n",
        "specificity = tn/(tn+fp)\n",
        "print('precision:',precision)\n",
        "print('recall:',recall)\n",
        "print('f1score:',f1score)\n",
        "print('accuracy:',accuracy)\n",
        "print('specificity:',specificity)\n",
        "\n",
        "\n",
        "\n",
        "print(cf_matrix)\n",
        "\n",
        "import seaborn as sns\n",
        "import numpy as np\n",
        "\n",
        "ax = sns.heatmap(cf_matrix/np.sum(cf_matrix), annot=True, \n",
        "            fmt='.2%', cmap='Blues')\n",
        "ax.set_title('Seaborn Confusion Matrix with labels\\n\\n');\n",
        "ax.set_xlabel('\\nPredicted Class')\n",
        "ax.set_ylabel('Actual Class ');\n",
        "\n",
        "## Ticket labels - List must be in alphabetical order\n",
        "ax.xaxis.set_ticklabels(['Fast Walk', 'Slow Walk'])\n",
        "ax.yaxis.set_ticklabels(['Fast Walk', 'Slow Walk'])\n",
        "\n",
        "## Display the visualization of the Confusion Matrix.\n",
        "plt.show()"
      ]
    },
    {
      "cell_type": "code",
      "source": [
        ""
      ],
      "metadata": {
        "id": "rOEajK2mxvLB"
      },
      "execution_count": null,
      "outputs": []
    }
  ]
}