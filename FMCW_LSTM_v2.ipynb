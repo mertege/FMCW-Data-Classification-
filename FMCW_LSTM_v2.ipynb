{
  "nbformat": 4,
  "nbformat_minor": 0,
  "metadata": {
    "colab": {
      "name": "FMCW_LSTM_v2",
      "provenance": [],
      "collapsed_sections": [],
      "authorship_tag": "ABX9TyNM0+TL+EHikU3wQdH97SAI",
      "include_colab_link": true
    },
    "kernelspec": {
      "name": "python3",
      "display_name": "Python 3"
    },
    "language_info": {
      "name": "python"
    },
    "accelerator": "GPU"
  },
  "cells": [
    {
      "cell_type": "markdown",
      "metadata": {
        "id": "view-in-github",
        "colab_type": "text"
      },
      "source": [
        "<a href=\"https://colab.research.google.com/github/mertege/FMCW-Data-Classification-/blob/main/FMCW_LSTM_v2.ipynb\" target=\"_parent\"><img src=\"https://colab.research.google.com/assets/colab-badge.svg\" alt=\"Open In Colab\"/></a>"
      ]
    },
    {
      "cell_type": "code",
      "metadata": {
        "id": "wTQytZc7Nlq4"
      },
      "source": [
        "# Bu versiyonda LSTM yerine Bi-LSTM kullanıldı."
      ],
      "execution_count": null,
      "outputs": []
    },
    {
      "cell_type": "code",
      "metadata": {
        "id": "A_4YQeWku_Ag"
      },
      "source": [
        "import numpy\n",
        "from keras.preprocessing import sequence\n",
        "import scipy.io\n",
        "import keras\n",
        "import tensorflow as tf\n",
        "from keras.models import Model\n",
        "from keras.layers import Dense, Dropout, Flatten,Input, Lambda, Activation, Concatenate, LSTM, Embedding, Bidirectional, GRU\n",
        "from keras.layers import Conv2D, MaxPooling2D\n",
        "from tensorflow.keras import backend as K\n",
        "from tensorflow.keras import layers\n",
        "from keras.callbacks import EarlyStopping\n",
        "from matplotlib import pyplot as plt"
      ],
      "execution_count": null,
      "outputs": []
    },
    {
      "cell_type": "code",
      "metadata": {
        "colab": {
          "base_uri": "https://localhost:8080/"
        },
        "id": "RHnC7A88vHL9",
        "outputId": "9945d4b9-8052-4f09-9cfc-ef145e5e6d8e"
      },
      "source": [
        "from google.colab import drive\n",
        "drive.mount('/content/drive')"
      ],
      "execution_count": null,
      "outputs": [
        {
          "output_type": "stream",
          "name": "stdout",
          "text": [
            "Mounted at /content/drive\n"
          ]
        }
      ]
    },
    {
      "cell_type": "code",
      "metadata": {
        "colab": {
          "base_uri": "https://localhost:8080/"
        },
        "id": "PyBQBj2OvLmN",
        "outputId": "c026a9bc-3cae-4f37-ce24-084f1dac3825"
      },
      "source": [
        "training_data = scipy.io.loadmat('/content/drive/MyDrive/training_data.mat')\n",
        "training_label = scipy.io.loadmat('/content/drive/MyDrive/training_label.mat')\n",
        "testing_data = scipy.io.loadmat('/content/drive/MyDrive/testing_data.mat')\n",
        "testing_label = scipy.io.loadmat('/content/drive/MyDrive/testing_label.mat')\n",
        "validation_data = scipy.io.loadmat('/content/drive/MyDrive/validation_data.mat')\n",
        "validation_label = scipy.io.loadmat('/content/drive/MyDrive/validation_label.mat')\n",
        "training_and_val_data = scipy.io.loadmat('/content/drive/MyDrive/training_and_val_data.mat')\n",
        "training_and_val_label = scipy.io.loadmat('/content/drive/MyDrive/training_and_val_label.mat') \n",
        "trainingdata_reshaped = scipy.io.loadmat('/content/drive/MyDrive/trainingdata_reshaped.mat')\n",
        "traininglabel_reshaped = scipy.io.loadmat('/content/drive/MyDrive/traininglabel_reshaped.mat') \n",
        "sorted(training_label.keys())"
      ],
      "execution_count": null,
      "outputs": [
        {
          "output_type": "execute_result",
          "data": {
            "text/plain": [
              "['__globals__', '__header__', '__version__', 'training_label']"
            ]
          },
          "metadata": {},
          "execution_count": 3
        }
      ]
    },
    {
      "cell_type": "code",
      "metadata": {
        "colab": {
          "base_uri": "https://localhost:8080/"
        },
        "id": "--oSMs8w4lE-",
        "outputId": "0ea29f91-b130-4ed8-ebd2-31ca803e1fc7"
      },
      "source": [
        "# Convert mat. data to ndarray\n",
        "training_dataset = training_data['training_data']\n",
        "training_labelset = training_label['training_label']\n",
        "testing_dataset = testing_data['testing_data']\n",
        "testing_label = testing_label['testing_label']\n",
        "validation_dataset = validation_data['validation_data']\n",
        "validation_label = validation_label['validation_label']\n",
        "trainingdata_reshaped = trainingdata_reshaped['trainingdata_reshaped']\n",
        "traininglabel_reshaped = traininglabel_reshaped['traininglabel_reshaped']\n",
        "print(validation_label.shape)"
      ],
      "execution_count": null,
      "outputs": [
        {
          "output_type": "stream",
          "name": "stdout",
          "text": [
            "(20, 1)\n"
          ]
        }
      ]
    },
    {
      "cell_type": "code",
      "metadata": {
        "id": "CFhq3pEV4nI5"
      },
      "source": [
        "X_train1 = training_dataset[:,1,:]\n",
        "X_train2 = training_dataset[:,2,:]\n",
        "X_train3 = training_dataset[:,3,:]\n",
        "X_train4 = training_dataset[:,4,:]\n",
        "X_train5 = training_dataset[:,5,:]\n",
        "X_train6 = training_dataset[:,6,:]\n",
        "X_train7 = training_dataset[:,7,:]\n",
        "X_train8 = training_dataset[:,8,:]\n",
        "X_train9 = training_dataset[:,9,:]\n",
        "X_train10 = training_dataset[:,10,:]\n",
        "X_train11 = training_dataset[:,11,:]\n",
        "X_train12 = training_dataset[:,12,:]\n",
        "X_train13 = training_dataset[:,13,:]\n",
        "X_train14 = training_dataset[:,14,:]\n",
        "X_train15 = training_dataset[:,0,:]\n",
        "\n",
        "y_train = training_labelset[:,0]\n",
        "\n",
        "trainingdata_reshaped1 = trainingdata_reshaped[:,1,:]\n",
        "trainingdata_reshaped2 = trainingdata_reshaped[:,2,:]\n",
        "trainingdata_reshaped3 = trainingdata_reshaped[:,3,:]\n",
        "trainingdata_reshaped4 = trainingdata_reshaped[:,4,:]\n",
        "trainingdata_reshaped5 = trainingdata_reshaped[:,5,:]\n",
        "trainingdata_reshaped6 = trainingdata_reshaped[:,6,:]\n",
        "trainingdata_reshaped7 = trainingdata_reshaped[:,7,:]\n",
        "trainingdata_reshaped8 = trainingdata_reshaped[:,8,:]\n",
        "trainingdata_reshaped9 = trainingdata_reshaped[:,9,:]\n",
        "trainingdata_reshaped10 = trainingdata_reshaped[:,10,:]\n",
        "trainingdata_reshaped11 = trainingdata_reshaped[:,11,:]\n",
        "trainingdata_reshaped12 = trainingdata_reshaped[:,12,:]\n",
        "trainingdata_reshaped13 = trainingdata_reshaped[:,13,:]\n",
        "trainingdata_reshaped14 = trainingdata_reshaped[:,14,:]\n",
        "trainingdata_reshaped15 = trainingdata_reshaped[:,0,:]\n",
        "\n",
        "y_train_reshaped = traininglabel_reshaped[:,0]\n",
        "\n",
        "X_val1 = validation_dataset[:,1,:]\n",
        "X_val2 = validation_dataset[:,2,:]\n",
        "X_val3 = validation_dataset[:,3,:]\n",
        "X_val4 = validation_dataset[:,4,:]\n",
        "X_val5 = validation_dataset[:,5,:]\n",
        "X_val6 = validation_dataset[:,6,:]\n",
        "X_val7 = validation_dataset[:,7,:]\n",
        "X_val8 = validation_dataset[:,8,:]\n",
        "X_val9 = validation_dataset[:,9,:]\n",
        "X_val10 = validation_dataset[:,10,:]\n",
        "X_val11 = validation_dataset[:,11,:]\n",
        "X_val12 = validation_dataset[:,12,:]\n",
        "X_val13 = validation_dataset[:,13,:]\n",
        "X_val14 = validation_dataset[:,14,:]\n",
        "X_val15 = validation_dataset[:,0,:]\n",
        "\n",
        "y_val = validation_label[:,0]\n",
        "\n",
        "X_test1 = testing_dataset[:,1,:]\n",
        "X_test2 = testing_dataset[:,2,:]\n",
        "X_test3 = testing_dataset[:,3,:]\n",
        "X_test4 = testing_dataset[:,4,:]\n",
        "X_test5 = testing_dataset[:,5,:]\n",
        "X_test6 = testing_dataset[:,6,:]\n",
        "X_test7 = testing_dataset[:,7,:]\n",
        "X_test8 = testing_dataset[:,8,:]\n",
        "X_test9 = testing_dataset[:,9,:]\n",
        "X_test10 = testing_dataset[:,10,:]\n",
        "X_test11 = testing_dataset[:,11,:]\n",
        "X_test12 = testing_dataset[:,12,:]\n",
        "X_test13 = testing_dataset[:,13,:]\n",
        "X_test14 = testing_dataset[:,14,:]\n",
        "X_test15 = testing_dataset[:,0,:]\n",
        "\n",
        "y_test = testing_label[:,0]"
      ],
      "execution_count": null,
      "outputs": []
    },
    {
      "cell_type": "code",
      "metadata": {
        "id": "oZGmSts34of-"
      },
      "source": [
        "# FMCW Learning with Function API bi-direcional LSTM\n",
        "LSTM_hidden_units = 8\n",
        "dense_input_unit = LSTM_hidden_units*15*2\n",
        "top_words = 4225\n",
        "max_review_length = 4225\n",
        "embedding_vecor_length = 16\n",
        "def summation(vects):\n",
        "    x, y = vects\n",
        "    return x+y\n",
        "def summation_shape(shapes):\n",
        "    shape1, shape2 = shapes\n",
        "    return (shape1)\n",
        "\n",
        "\n",
        "def create_base_network1(input_shape):\n",
        " \n",
        "    input = Input(shape=input_shape)\n",
        "    x = Embedding(top_words, embedding_vecor_length, input_length=max_review_length)(input)\n",
        "    x = (Dropout(0.2))(x)\n",
        "    x = Bidirectional(LSTM(LSTM_hidden_units))(x)\n",
        "    x = (Dropout(0.2))(x)\n",
        "    return Model(input, x)\n",
        "\n",
        "def create_base_network2(input_shape):\n",
        " \n",
        "    input = Input(shape=input_shape)\n",
        "    x = Embedding(top_words, embedding_vecor_length, input_length=max_review_length)(input)\n",
        "    x = (Dropout(0.2))(x)\n",
        "    x = Bidirectional(LSTM(LSTM_hidden_units))(x)\n",
        "    x = (Dropout(0.2))(x)\n",
        "    return Model(input, x)\n",
        "def create_base_network3(input_shape):\n",
        " \n",
        "    input = Input(shape=input_shape)\n",
        "    x = Embedding(top_words, embedding_vecor_length, input_length=max_review_length)(input)\n",
        "    x = (Dropout(0.2))(x)\n",
        "    x = Bidirectional(LSTM(LSTM_hidden_units))(x)\n",
        "    x = (Dropout(0.2))(x)\n",
        "    return Model(input, x)\n",
        "\n",
        "def create_base_network4(input_shape):\n",
        " \n",
        "    input = Input(shape=input_shape)\n",
        "    x = Embedding(top_words, embedding_vecor_length, input_length=max_review_length)(input)\n",
        "    x = (Dropout(0.2))(x)\n",
        "    x = Bidirectional(LSTM(LSTM_hidden_units))(x)\n",
        "    x = (Dropout(0.2))(x)\n",
        "    return Model(input, x)\n",
        "def create_base_network5(input_shape):\n",
        " \n",
        "    input = Input(shape=input_shape)\n",
        "    x = Embedding(top_words, embedding_vecor_length, input_length=max_review_length)(input)\n",
        "    x = (Dropout(0.2))(x)\n",
        "    x = Bidirectional(LSTM(LSTM_hidden_units))(x)\n",
        "    x = (Dropout(0.2))(x)\n",
        "    return Model(input, x)\n",
        "\n",
        "def create_base_network6(input_shape):\n",
        " \n",
        "    input = Input(shape=input_shape)\n",
        "    x = Embedding(top_words, embedding_vecor_length, input_length=max_review_length)(input)\n",
        "    x = (Dropout(0.2))(x)\n",
        "    x = Bidirectional(LSTM(LSTM_hidden_units))(x)\n",
        "    x = (Dropout(0.2))(x)\n",
        "    return Model(input, x)\n",
        "def create_base_network7(input_shape):\n",
        " \n",
        "    input = Input(shape=input_shape)\n",
        "    x = Embedding(top_words, embedding_vecor_length, input_length=max_review_length)(input)\n",
        "    x = (Dropout(0.2))(x)\n",
        "    x = Bidirectional(LSTM(LSTM_hidden_units))(x)\n",
        "    x = (Dropout(0.2))(x)\n",
        "    return Model(input, x)\n",
        "\n",
        "def create_base_network8(input_shape):\n",
        " \n",
        "    input = Input(shape=input_shape)\n",
        "    x = Embedding(top_words, embedding_vecor_length, input_length=max_review_length)(input)\n",
        "    x = (Dropout(0.2))(x)\n",
        "    x = Bidirectional(LSTM(LSTM_hidden_units))(x)\n",
        "    x = (Dropout(0.2))(x)\n",
        "    return Model(input, x)\n",
        "def create_base_network9(input_shape):\n",
        " \n",
        "    input = Input(shape=input_shape)\n",
        "    x = Embedding(top_words, embedding_vecor_length, input_length=max_review_length)(input)\n",
        "    x = (Dropout(0.2))(x)\n",
        "    x = Bidirectional(LSTM(LSTM_hidden_units))(x)\n",
        "    x = (Dropout(0.2))(x)\n",
        "    return Model(input, x)\n",
        "\n",
        "def create_base_network10(input_shape):\n",
        " \n",
        "    input = Input(shape=input_shape)\n",
        "    x = Embedding(top_words, embedding_vecor_length, input_length=max_review_length)(input)\n",
        "    x = (Dropout(0.2))(x)\n",
        "    x = Bidirectional(LSTM(LSTM_hidden_units))(x)\n",
        "    x = (Dropout(0.2))(x)\n",
        "    return Model(input, x)\n",
        "def create_base_network11(input_shape):\n",
        " \n",
        "    input = Input(shape=input_shape)\n",
        "    x = Embedding(top_words, embedding_vecor_length, input_length=max_review_length)(input)\n",
        "    x = (Dropout(0.2))(x)\n",
        "    x = Bidirectional(LSTM(LSTM_hidden_units))(x)\n",
        "    x = (Dropout(0.2))(x)\n",
        "    return Model(input, x)\n",
        "\n",
        "def create_base_network12(input_shape):\n",
        " \n",
        "    input = Input(shape=input_shape)\n",
        "    x = Embedding(top_words, embedding_vecor_length, input_length=max_review_length)(input)\n",
        "    x = (Dropout(0.2))(x)\n",
        "    x = Bidirectional(LSTM(LSTM_hidden_units))(x)\n",
        "    x = (Dropout(0.2))(x)\n",
        "    return Model(input, x)\n",
        "def create_base_network13(input_shape):\n",
        " \n",
        "    input = Input(shape=input_shape)\n",
        "    x = Embedding(top_words, embedding_vecor_length, input_length=max_review_length)(input)\n",
        "    x = (Dropout(0.2))(x)\n",
        "    x = Bidirectional(LSTM(LSTM_hidden_units))(x)\n",
        "    x = (Dropout(0.2))(x)\n",
        "    return Model(input, x)\n",
        "\n",
        "def create_base_network14(input_shape):\n",
        " \n",
        "    input = Input(shape=input_shape)\n",
        "    x = Embedding(top_words, embedding_vecor_length, input_length=max_review_length)(input)\n",
        "    x = (Dropout(0.2))(x)\n",
        "    x = Bidirectional(LSTM(LSTM_hidden_units))(x)\n",
        "    x = (Dropout(0.2))(x)\n",
        "    return Model(input, x)\n",
        "\n",
        "def create_base_network15(input_shape):\n",
        " \n",
        "    input = Input(shape=input_shape)\n",
        "    x = Embedding(top_words, embedding_vecor_length, input_length=max_review_length)(input)\n",
        "    x = (Dropout(0.2))(x)\n",
        "    x = Bidirectional(LSTM(LSTM_hidden_units))(x)\n",
        "    x = (Dropout(0.2))(x)\n",
        "    return Model(input, x)\n",
        "\n",
        "def decoder(input_shape):\n",
        "    input = Input(shape=input_shape)    \n",
        "    x = Dense(32, activation=\"sigmoid\")(input)\n",
        "    x = (Dropout(0.2))(x)\n",
        "    out = Dense(1, activation=\"sigmoid\")(x)\n",
        "    return Model(input, out)\n",
        "\n",
        "input_shape = ((4225))\n",
        "base_network1 = create_base_network1(input_shape)\n",
        "base_network2 = create_base_network2(input_shape)\n",
        "base_network3 = create_base_network3(input_shape)\n",
        "base_network4 = create_base_network4(input_shape)\n",
        "base_network5 = create_base_network5(input_shape)\n",
        "base_network6 = create_base_network6(input_shape)\n",
        "base_network7 = create_base_network7(input_shape)\n",
        "base_network8 = create_base_network8(input_shape)\n",
        "base_network9 = create_base_network9(input_shape)\n",
        "base_network10 = create_base_network10(input_shape)\n",
        "base_network11 = create_base_network11(input_shape)\n",
        "base_network12 = create_base_network12(input_shape)\n",
        "base_network13 = create_base_network13(input_shape)\n",
        "base_network14 = create_base_network14(input_shape)\n",
        "base_network15 = create_base_network15(input_shape)\n",
        "\n",
        "input_1  = Input(shape=input_shape)\n",
        "input_2  = Input(shape=input_shape)\n",
        "input_3  = Input(shape=input_shape)\n",
        "input_4  = Input(shape=input_shape)\n",
        "input_5  = Input(shape=input_shape)\n",
        "input_6  = Input(shape=input_shape)\n",
        "input_7  = Input(shape=input_shape)\n",
        "input_8  = Input(shape=input_shape)\n",
        "input_9  = Input(shape=input_shape)\n",
        "input_10 = Input(shape=input_shape)\n",
        "input_11 = Input(shape=input_shape)\n",
        "input_12 = Input(shape=input_shape)\n",
        "input_13 = Input(shape=input_shape)\n",
        "input_14 = Input(shape=input_shape)\n",
        "input_15 = Input(shape=input_shape)\n",
        "\n",
        "processed_1  = base_network1(input_1 )\n",
        "processed_2  = base_network2(input_2 )\n",
        "processed_3  = base_network1(input_3 )\n",
        "processed_4  = base_network2(input_4 )\n",
        "processed_5  = base_network1(input_5 )\n",
        "processed_6  = base_network2(input_6 )\n",
        "processed_7  = base_network1(input_7 )\n",
        "processed_8  = base_network2(input_8 )\n",
        "processed_9  = base_network1(input_9 )\n",
        "processed_10 = base_network2(input_10)\n",
        "processed_11 = base_network1(input_11)\n",
        "processed_12 = base_network2(input_12)\n",
        "processed_13 = base_network1(input_13)\n",
        "processed_14 = base_network2(input_14)\n",
        "processed_15 = base_network1(input_15)\n",
        "\n",
        "\n",
        "# sum_shape = X_train1.shape\n",
        "# aa = Lambda(summation,\n",
        "#                   output_shape=sum_shape)([processed_a, processed_b])\n",
        "aa = Concatenate()([processed_1, processed_2,processed_3, processed_4,processed_5, processed_6,processed_7, processed_8,processed_9, processed_10,processed_11, processed_12,processed_13, processed_14,processed_15])\n",
        "\n",
        "base_decoder_network = decoder((dense_input_unit))\n",
        "out1 = base_decoder_network(aa)\n",
        "# out2 = base_decoder_network(aa)\n",
        "\n",
        "\n",
        "model = Model(inputs=[input_1, input_2,input_3, input_4,input_5, input_6,input_7, input_8,input_9, input_10,input_11, input_12,input_13, input_14,input_15], outputs=[out1])       \n",
        "\n",
        "\n",
        "model.compile(loss='binary_crossentropy', optimizer='adam', metrics=['accuracy'])\n",
        "model.summary()\n",
        "history = model.fit((X_train1 ,X_train2 ,X_train3 ,X_train4 ,X_train5 ,X_train6 ,X_train7 ,X_train8 ,X_train9 ,X_train10,X_train11,X_train12,X_train13,X_train14,X_train15), (y_train),\n",
        "                epochs=30,\n",
        "                batch_size=16,\n",
        "                validation_data=((X_val1 ,X_val2,X_val3 ,X_val4,X_val5 ,X_val6,X_val7 ,X_val8,X_val9 ,X_val10,X_val11 ,X_val12,X_val13 ,X_val14,X_val15), (y_val)))"
      ],
      "execution_count": null,
      "outputs": []
    },
    {
      "cell_type": "code",
      "metadata": {
        "colab": {
          "base_uri": "https://localhost:8080/"
        },
        "id": "fWybRtUTWFdg",
        "outputId": "c3d0230d-8349-4150-9d85-6e54c6e2f3cc"
      },
      "source": [
        "results = model.evaluate((X_test1,X_test2,X_test3,X_test4,X_test5,X_test6,X_test7,X_test8,X_test9,X_test10,X_test11,X_test12,X_test13,X_test14,X_test15) ,y_test, batch_size=16)\n",
        "print(\"test loss, test acc:\", results)"
      ],
      "execution_count": null,
      "outputs": [
        {
          "output_type": "stream",
          "name": "stdout",
          "text": [
            "3/3 [==============================] - 7s 2s/step - loss: 0.6827 - accuracy: 0.7500 - f1_m: 0.4524 - precision_m: 0.5000 - recall_m: 0.4167\n",
            "test loss: 0.6826640367507935\n",
            "test acc: 0.75\n",
            "f1_score: 0.452380895614624\n"
          ]
        }
      ]
    }
  ]
}